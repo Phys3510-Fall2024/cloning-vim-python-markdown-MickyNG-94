{
 "cells": [
  {
   "cell_type": "markdown",
   "id": "9502d6db-cd5f-480a-a582-7f366a72a213",
   "metadata": {},
   "source": [
    "# Introduction to Markdown in Jupyter Notebooks\n",
    "\n",
    "Markdown is a lightweight markup language that you can use to add formatting elements to plaintext text documents. Jupyter Notebooks support Markdown, allowing you to create well-formatted text, lists, images, and links.\n",
    "\n",
    "In this tutorial, we will learn the basics of Markdown and how to navigate through a Jupyter Notebook.\n",
    "\n",
    "If you want to learn more, you can play with Markdown [here](https://www.markdowntutorial.com/), or check the [Mardown Guide](https://www.markdownguide.org/) for more info.\n",
    "\n",
    "If you get stuck, try searching the web or using generative AI to answer questions like \"How do I write equations in Markdown?\"."
   ]
  },
  {
   "cell_type": "markdown",
   "id": "311a0f43-d641-4d8a-8c4b-95de8c5cc51c",
   "metadata": {},
   "source": [
    "## Navigating in Jupyter Notebooks\n",
    "\n",
    "Jupyter Notebooks offer several keyboard shortcuts that can help you navigate and perform tasks efficiently.\n",
    "\n",
    "### Basic Operations\n",
    "\n",
    "- **Running a cell**: Press `Shift + Enter` to execute the current cell and move to the next one.\n",
    "- **Insert a new cell**: Press `B` to insert a new cell below the current one.\n",
    "- **Insert a new cell above**: Press `A` to insert a new cell above the current one.\n",
    "- **Delete a cell**: Press `Esc + D, D` (double D) to delete the selected cell.\n",
    "\n",
    "### Changing Cell Types\n",
    "\n",
    "- **Change to Markdown**: Press `Esc + M` to change the selected cell to a Markdown cell.\n",
    "- **Change to Code**: Press `Esc + Y` to change the selected cell to a Code cell.\n",
    "\n",
    "### Additional Shortcuts\n",
    "\n",
    "- **Copy a cell**: Press `Esc + C` to copy the selected cell.\n",
    "- **Cut a cell**: Press `Esc + X` to cut the selected cell.\n",
    "- **Paste a cell**: Press `Esc + V` to paste the copied/cut cell below the current one.\n",
    "- **Undo delete**: Press `Esc + Z` to undo the last delete operation.\n",
    "\n",
    "### Command vs. Edit Mode\n",
    "\n",
    "- **Command Mode**: When in command mode, the cell border is blue, and you can use the shortcuts mentioned above. Press `Esc` to enter command mode.\n",
    "- **Edit Mode**: When in edit mode, the cell border is green, and you can type in the cell. Press `Enter` to enter edit mode from command mode.\n",
    "\n",
    "### Practice\n",
    "\n",
    "Try navigating the notebook by:\n",
    "1. Inserting a new cell above or below.\n",
    "2. Changing the cell type to Markdown or Code.\n",
    "3. Copying and pasting a cell.\n",
    "4. Deleting a cell and undoing the deletion.\n"
   ]
  },
  {
   "attachments": {},
   "cell_type": "markdown",
   "id": "24cf8a5b-1a6c-416d-a8e4-102aa6b46079",
   "metadata": {},
   "source": [
    "\n",
    "\n",
    "## Headers\n",
    "\n",
    "You can create headers using the `#` symbol. The number of `#` symbols indicates the level of the header.\n",
    "\n",
    "# This is a level 1 header\n",
    "## This is a level 2 header\n",
    "### This is a level 3 header\n",
    "\n",
    "Try creating your own headers below:\n"
   ]
  },
  {
   "cell_type": "markdown",
   "id": "20ae01b0-f6ae-48fc-bbc0-3f91e240a855",
   "metadata": {},
   "source": [
    "### Three\n",
    "## Two\n",
    "# One"
   ]
  },
  {
   "cell_type": "markdown",
   "id": "a1934587-0a00-43d0-a19f-014ffc68a14e",
   "metadata": {},
   "source": [
    "## Emphasis (Bold, Italics)\n",
    "\n",
    "You can emphasize text by making it **bold** or *italic*.\n",
    "\n",
    "- **Bold text**: Use double asterisks `**` before and after the text.\n",
    "- *Italic text*: Use single asterisks `*` before and after the text.\n",
    "- ***Bold and Italic***: Use three asterisks `***` before and after the text.\n",
    "\n",
    "**Example:**\n",
    "- **Bold**\n",
    "- *Italic*\n",
    "- ***Bold and Italic***\n",
    "\n",
    "Try emphasizing text below:\n"
   ]
  },
  {
   "cell_type": "markdown",
   "id": "3cd55e97-b15d-40e0-8022-4e7c1df17c6b",
   "metadata": {},
   "source": [
    "**bold**\n",
    "\n",
    "*Italic*\n",
    "\n",
    "***bold and italic***\n"
   ]
  },
  {
   "cell_type": "markdown",
   "id": "9e156d66-ff87-4213-95c9-26eb1f9822e0",
   "metadata": {},
   "source": [
    "## Lists\n",
    "\n",
    "You can create ordered and unordered lists in Markdown.\n",
    "\n",
    "- **Unordered list**: Use `-` or `*` followed by a space for each item.\n",
    "- **Ordered list**: Use numbers followed by a period for each item.\n",
    "\n",
    "**Example:**\n",
    "- Item 1\n",
    "- Item 2\n",
    "  - Sub-item 1\n",
    "  - Sub-item 2\n",
    "\n",
    "1. First item\n",
    "2. Second item\n",
    "   1. Sub-item 1\n",
    "   2. Sub-item 2\n",
    "\n",
    "Create your own list below:\n"
   ]
  },
  {
   "cell_type": "markdown",
   "id": "edbe6178-d8f7-4dd3-ac29-c53841b478d5",
   "metadata": {},
   "source": [
    "**List Tester**\n",
    "\n",
    "- Lions\n",
    "- Tigers\n",
    "- Bears\n",
    "    - Oh my\n",
    "\n",
    "1. Item 1\n",
    "2. Item 2\n",
    "   1. Sub item 1\n",
    "   2. And so on..."
   ]
  },
  {
   "cell_type": "markdown",
   "id": "cd6800c3-42c7-4827-8ad3-0c7c7ea0ec9f",
   "metadata": {},
   "source": [
    "## Links and Images\n",
    "\n",
    "You can add links and images in Markdown.\n",
    "\n",
    "- **Link**: Use `[Link Text](URL)` to create a clickable link.\n",
    "- **Image**: Use `![Alt Text](Image URL)` to display an image.\n",
    "\n",
    "**Example:**\n",
    "\n",
    "[University of North Texas, Department of Physics](https://physics.unt.edu/)\n",
    "\n",
    "![UNT Logo](https://physics.unt.edu/sites/all/themes/cas7/images/untbanner.png)\n",
    "\n",
    "Add a link and an image below:\n"
   ]
  },
  {
   "cell_type": "markdown",
   "id": "146873cd-05ca-42d6-a0f9-af56dbf21ff3",
   "metadata": {},
   "source": [
    "[Azathoth](https://www.hplovecraft.com/writings/texts/fiction/az.aspx)\n",
    "\n",
    "![Alt text](https://i.redd.it/byb5eiae7uez.jpg)\n"
   ]
  },
  {
   "cell_type": "markdown",
   "id": "14fa39bb-2caf-4a3f-8e51-703f7ae6105f",
   "metadata": {},
   "source": [
    "## Code Blocks and Inline Code\n",
    "\n",
    "You can display code snippets using backticks.\n",
    "\n",
    "- **Inline code**: Use a single backtick `` `code` ``.\n",
    "- **Code block**: Use three backticks ``` ``` before and after the code block.\n",
    "\n",
    "**Example:**\n",
    "- Inline code: `print(\"Hello, World!\")`\n",
    "- Code block:\n",
    "```python\n",
    "    def greet():\n",
    "        print(\"Hello, World!\")\n",
    "    greet()  \n",
    "```\n",
    "\n",
    "Try writing some code below:\n",
    "\n"
   ]
  },
  {
   "cell_type": "markdown",
   "id": "62d1425b-069b-4e88-b7b8-bf8eb14e9d1a",
   "metadata": {},
   "source": [
    "`code`\n",
    "```python\n",
    "    \n",
    "    num1 = input('Enter first number: ')\n",
    "    num2 = input('Enter second number: ')\n",
    "    \n",
    "    sum = float(num1) + float(num2)\n",
    "    \n",
    "    print('The sum of {0} and {1} is {2}')\n",
    "```"
   ]
  },
  {
   "cell_type": "markdown",
   "id": "e5b0badf-0b1d-42c4-8514-ba58bc9bcf05",
   "metadata": {},
   "source": [
    "## Blockquotes\n",
    "\n",
    "You can create blockquotes using the `>` symbol.\n",
    "\n",
    "**Example:**\n",
    "> This is a blockquote. \n",
    "> We can keep adding to it here.\n",
    "\n",
    "Add your own blockquote below:"
   ]
  },
  {
   "cell_type": "markdown",
   "id": "307fd1cd-b271-45a3-983d-6d4584525ec8",
   "metadata": {},
   "source": [
    "> Blockquote tester;\n",
    "> additional line"
   ]
  },
  {
   "cell_type": "markdown",
   "id": "38f362b7-4524-4c8e-baaf-46050795a248",
   "metadata": {},
   "source": [
    "\n",
    "\n",
    "## Horizontal Lines and Line Breaks\n",
    "\n",
    "You can add horizontal lines using three hyphens or asterisks.\n",
    "\n",
    "**Example:**\n",
    "\n",
    "---\n",
    "\n",
    "You can create line breaks by leaving a blank line or by using two spaces at the end of a line.\n",
    "\n",
    "**Example:**\n",
    "This is the first line.  \n",
    "This is the second line.\n",
    "\n",
    "Add a horizontal line and some line breaks below:\n"
   ]
  },
  {
   "cell_type": "markdown",
   "id": "2a6852a3-b4ce-42aa-8950-47b38e29eccf",
   "metadata": {},
   "source": [
    "---\n",
    "Whether the weather be fine,  \n",
    "Or whether the weather be not.  \n",
    "We'll weather the weather whatever the weather  \n",
    "Whether we \n",
    "like it \n",
    "or not.\n",
    "***"
   ]
  },
  {
   "cell_type": "markdown",
   "id": "1ea03139-72ec-4ba9-bf6b-78a9bde6cf36",
   "metadata": {},
   "source": [
    "## Using LaTeX in Jupyter Notebooks\n",
    "\n",
    "Jupyter Notebooks support LaTeX for rendering mathematical expressions. This is particularly useful for writing equations, formulas, and other mathematical content.\n",
    "\n",
    "### Inline LaTeX\n",
    "\n",
    "To write inline LaTeX, enclose your LaTeX code with single dollar signs `$`.\n",
    "\n",
    "**Example:**\n",
    "\n",
    "To display the equation \\( E = mc^2 \\) inline, write:\n",
    "\n",
    "$E = mc^2$\n",
    "\n",
    "\n",
    "### Block LaTeX\n",
    "\n",
    "For larger equations or formulas that you want to display on their own line, enclose your LaTeX code with double dollar signs $$.\n",
    "\n",
    "**Example:**\n",
    "\n",
    "To display the quadratic formula:\n",
    "x=−b±\\sqrt{b^2−4ac}/2a\n",
    "\n",
    "Write it as:\n",
    "\n",
    "$$\n",
    "x = \\frac{-b \\pm \\sqrt{b^2 - 4ac}}{2a}\n",
    "$$"
   ]
  },
  {
   "cell_type": "markdown",
   "id": "d494a66d-0e19-4705-9ac2-3e61752cc4f1",
   "metadata": {},
   "source": [
    "**Formula practice:**\n",
    "\n",
    "$F = GMm/r^2$\n",
    "\n",
    "$\\pm\\pi$\n",
    "\n",
    "$\\sin^2(x) + \\cos^2(x) = 1$\n",
    "\n",
    "$$\n",
    "E = \\frac{mc^2}{\\sqrt{1 - v^2/c^2}}\n",
    "$$\n",
    "\n",
    "$\\int_0^\\infty$"
   ]
  },
  {
   "cell_type": "markdown",
   "id": "0360efe6-d264-464c-85f8-93425436c9c5",
   "metadata": {},
   "source": [
    "## Common LaTeX Symbols and Commands\n",
    "\n",
    "- **Fractions**: `\\frac{numerator}{denominator}`  \n",
    "  **Example**: \\( \\frac{1}{2} \\) becomes $\\frac{1}{2}$\n",
    "\n",
    "- **Square roots**: `\\sqrt{expression}`  \n",
    "  **Example**: \\( \\sqrt{4} = 2 \\) becomes $\\sqrt{4} = 2$\n",
    "\n",
    "- **Exponents**: `a^b` for superscript  \n",
    "  **Example**: \\( x^2 \\) becomes $x^2$\n",
    "\n",
    "- **Subscripts**: `a_b` for subscript  \n",
    "  **Example**: \\( x_1 \\) becomes $x_1$\n",
    "\n",
    "- **Greek letters**: `\\alpha, \\beta, \\gamma, \\ldots`  \n",
    "  **Example**: \\( \\alpha + \\beta = \\gamma \\) becomes $\\alpha + \\beta = \\gamma$\n",
    "\n",
    "## Practice\n",
    "\n",
    "Try writing the following expressions using LaTeX:\n",
    "\n",
    "1. A fraction: \\( \\frac{3}{4} \\)\n",
    "2. A square root: \\( \\sqrt{16} = 4 \\)\n",
    "3. An equation with both superscripts and subscripts:  \n",
    "   \\( a_i^2 + b_j^2 = c_k^2 \\)\n",
    "\n",
    "You can experiment with different equations below:\n"
   ]
  },
  {
   "cell_type": "markdown",
   "id": "d5be430d-3a7d-43c5-8965-35a25c814229",
   "metadata": {},
   "source": [
    "**Practice**\n",
    "\n",
    "$r = \\sqrt{r_x^2 + r_y^2}$\n",
    "\n",
    "\n",
    "$x = v_ot + \\frac{1}{2}at^2$\n",
    "\n",
    "$\\theta \\mu \\chi$\n"
   ]
  }
 ],
 "metadata": {
  "kernelspec": {
   "display_name": "Python 3 (ipykernel)",
   "language": "python",
   "name": "python3"
  },
  "language_info": {
   "codemirror_mode": {
    "name": "ipython",
    "version": 3
   },
   "file_extension": ".py",
   "mimetype": "text/x-python",
   "name": "python",
   "nbconvert_exporter": "python",
   "pygments_lexer": "ipython3",
   "version": "3.9.19"
  }
 },
 "nbformat": 4,
 "nbformat_minor": 5
}
